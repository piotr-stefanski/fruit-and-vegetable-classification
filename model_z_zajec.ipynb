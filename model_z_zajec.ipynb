{
  "nbformat": 4,
  "nbformat_minor": 0,
  "metadata": {
    "colab": {
      "provenance": [],
      "gpuType": "T4",
      "collapsed_sections": [
        "BsWhWcL2Ksbq",
        "rdsDPWvAK_Fz"
      ]
    },
    "kernelspec": {
      "name": "python3",
      "display_name": "Python 3"
    },
    "language_info": {
      "name": "python"
    },
    "accelerator": "GPU"
  },
  "cells": [
    {
      "cell_type": "markdown",
      "source": [
        "#Podłączenie dysku"
      ],
      "metadata": {
        "id": "6D1nIce4QMnI"
      }
    },
    {
      "cell_type": "code",
      "execution_count": 3,
      "metadata": {
        "colab": {
          "base_uri": "https://localhost:8080/"
        },
        "id": "77jena7KucEd",
        "outputId": "37aaa77f-a788-440b-daae-111e12af8976"
      },
      "outputs": [
        {
          "output_type": "stream",
          "name": "stdout",
          "text": [
            "Requirement already satisfied: gdown in /usr/local/lib/python3.10/dist-packages (4.7.3)\n",
            "Requirement already satisfied: filelock in /usr/local/lib/python3.10/dist-packages (from gdown) (3.13.1)\n",
            "Requirement already satisfied: requests[socks] in /usr/local/lib/python3.10/dist-packages (from gdown) (2.31.0)\n",
            "Requirement already satisfied: six in /usr/local/lib/python3.10/dist-packages (from gdown) (1.16.0)\n",
            "Requirement already satisfied: tqdm in /usr/local/lib/python3.10/dist-packages (from gdown) (4.66.1)\n",
            "Requirement already satisfied: beautifulsoup4 in /usr/local/lib/python3.10/dist-packages (from gdown) (4.11.2)\n",
            "Requirement already satisfied: soupsieve>1.2 in /usr/local/lib/python3.10/dist-packages (from beautifulsoup4->gdown) (2.5)\n",
            "Requirement already satisfied: charset-normalizer<4,>=2 in /usr/local/lib/python3.10/dist-packages (from requests[socks]->gdown) (3.3.2)\n",
            "Requirement already satisfied: idna<4,>=2.5 in /usr/local/lib/python3.10/dist-packages (from requests[socks]->gdown) (3.6)\n",
            "Requirement already satisfied: urllib3<3,>=1.21.1 in /usr/local/lib/python3.10/dist-packages (from requests[socks]->gdown) (2.0.7)\n",
            "Requirement already satisfied: certifi>=2017.4.17 in /usr/local/lib/python3.10/dist-packages (from requests[socks]->gdown) (2023.11.17)\n",
            "Requirement already satisfied: PySocks!=1.5.7,>=1.5.6 in /usr/local/lib/python3.10/dist-packages (from requests[socks]->gdown) (1.7.1)\n",
            "Downloading...\n",
            "From (original): https://drive.google.com/uc?id=13iHzmUjtRw-szibWFJfuMhivB8GqbsVF\n",
            "From (redirected): https://drive.google.com/uc?id=13iHzmUjtRw-szibWFJfuMhivB8GqbsVF&confirm=t&uuid=9340c49b-1d3d-45e4-acf1-ed816367599a\n",
            "To: /content/data.zip\n",
            "100% 60.2M/60.2M [00:01<00:00, 54.8MB/s]\n"
          ]
        }
      ],
      "source": [
        "!pip install -U --no-cache-dir gdown --pre\n",
        "\n",
        "!rm -rf data && mkdir data\n",
        "\n",
        "!gdown 13iHzmUjtRw-szibWFJfuMhivB8GqbsVF -O data.zip\n",
        "\n",
        "!unzip -q data.zip -d data"
      ]
    },
    {
      "cell_type": "code",
      "source": [
        "!ls data"
      ],
      "metadata": {
        "colab": {
          "base_uri": "https://localhost:8080/"
        },
        "id": "-4NVOnFPu3eE",
        "outputId": "7fc0d333-e975-408d-fb50-04c604bb5633"
      },
      "execution_count": 4,
      "outputs": [
        {
          "output_type": "stream",
          "name": "stdout",
          "text": [
            "apple  avocado\tbanana\tkiwi  mandarin\torange\tpear  pepper  potato  tomato\n"
          ]
        }
      ]
    },
    {
      "cell_type": "markdown",
      "source": [
        "#Import"
      ],
      "metadata": {
        "id": "aa2-ems_QTsH"
      }
    },
    {
      "cell_type": "code",
      "source": [
        "import matplotlib.pyplot as plt\n",
        "import numpy as np\n",
        "import PIL\n",
        "import tensorflow as tf\n",
        "import glob\n",
        "import os\n",
        "\n",
        "from tensorflow import keras\n",
        "from tensorflow.keras import layers\n",
        "from tensorflow.keras.models import Sequential"
      ],
      "metadata": {
        "id": "fA04YReAQW55"
      },
      "execution_count": 5,
      "outputs": []
    },
    {
      "cell_type": "markdown",
      "source": [
        "#Trenowanie"
      ],
      "metadata": {
        "id": "lEELywKLPNdx"
      }
    },
    {
      "cell_type": "code",
      "source": [
        "batch_size = 32\n",
        "class_count = 10\n",
        "\n",
        "img_height = 64\n",
        "img_width = 64\n",
        "\n",
        "print(os.getcwd())\n",
        "\n",
        "train_ds = tf.keras.utils.image_dataset_from_directory(\n",
        "  'data',\n",
        "  subset = \"training\",\n",
        "  validation_split = 0.2,\n",
        "  seed=123,\n",
        "  image_size=(img_height, img_width),\n",
        "  batch_size=batch_size)\n",
        "\n",
        "val_ds = tf.keras.utils.image_dataset_from_directory(\n",
        "  'data',\n",
        "  subset = 'validation',\n",
        "  validation_split = 0.5,\n",
        "  seed=123,\n",
        "  image_size=(img_height, img_width),\n",
        "  batch_size=batch_size)\n",
        "\n",
        "#Wyświetlenie klas\n",
        "class_names = train_ds.class_names\n",
        "print(f'class names: {class_names}')\n",
        "\n",
        "#Drobna optymalizacja\n",
        "train_ds = train_ds.cache().shuffle(1000).prefetch(buffer_size=tf.data.AUTOTUNE)\n",
        "val_ds = val_ds.cache().prefetch(buffer_size=tf.data.AUTOTUNE)\n",
        "\n",
        "#Tworzenie struktury modelu\n",
        "model = Sequential([\n",
        "  layers.Rescaling(1./255, input_shape=(img_height, img_width, 3)),\n",
        "  layers.Conv2D(16, 3, padding='same', activation='relu'),\n",
        "  layers.MaxPooling2D(),\n",
        "  layers.Conv2D(32, 3, padding='same', activation='relu'),\n",
        "  layers.MaxPooling2D(),\n",
        "  layers.Conv2D(64, 3, padding='same', activation='relu'),\n",
        "  layers.MaxPooling2D(),\n",
        "  layers.Flatten(),\n",
        "  layers.Dense(128, activation='relu'),\n",
        "  layers.Dense(class_count)\n",
        "])\n",
        "\n",
        "#Kompilowanie modelu oraz wyświetlanie jego struktury\n",
        "model.compile(optimizer='adam',\n",
        "              loss=tf.keras.losses.SparseCategoricalCrossentropy(from_logits=True),\n",
        "              metrics=['accuracy'])\n",
        "#model.summary()"
      ],
      "metadata": {
        "colab": {
          "base_uri": "https://localhost:8080/"
        },
        "id": "b8QDI7msPQ3C",
        "outputId": "f495cd0b-284f-4863-b236-e8d1434b22f5"
      },
      "execution_count": 6,
      "outputs": [
        {
          "output_type": "stream",
          "name": "stdout",
          "text": [
            "/content\n",
            "Found 6267 files belonging to 10 classes.\n",
            "Using 5014 files for training.\n",
            "Found 6267 files belonging to 10 classes.\n",
            "Using 3133 files for validation.\n",
            "class names: ['apple', 'avocado', 'banana', 'kiwi', 'mandarin', 'orange', 'pear', 'pepper', 'potato', 'tomato']\n"
          ]
        }
      ]
    },
    {
      "cell_type": "markdown",
      "source": [
        "##Uruchomienie procesu trenowania"
      ],
      "metadata": {
        "id": "zztvbvzgRHEw"
      }
    },
    {
      "cell_type": "code",
      "source": [
        "epochs=15\n",
        "\n",
        "history = model.fit(\n",
        "  train_ds,\n",
        "  validation_data=val_ds,\n",
        "  epochs=epochs\n",
        ")"
      ],
      "metadata": {
        "colab": {
          "base_uri": "https://localhost:8080/"
        },
        "id": "BTaQqgmwREYK",
        "outputId": "bf74929b-f0e1-4edd-a3ca-0186ac15f108"
      },
      "execution_count": 7,
      "outputs": [
        {
          "output_type": "stream",
          "name": "stdout",
          "text": [
            "Epoch 1/15\n",
            "157/157 [==============================] - 10s 25ms/step - loss: 0.5450 - accuracy: 0.8117 - val_loss: 0.1382 - val_accuracy: 0.9566\n",
            "Epoch 2/15\n",
            "157/157 [==============================] - 1s 6ms/step - loss: 0.0620 - accuracy: 0.9828 - val_loss: 0.0843 - val_accuracy: 0.9658\n",
            "Epoch 3/15\n",
            "157/157 [==============================] - 1s 6ms/step - loss: 0.0280 - accuracy: 0.9918 - val_loss: 0.0128 - val_accuracy: 0.9952\n",
            "Epoch 4/15\n",
            "157/157 [==============================] - 1s 6ms/step - loss: 0.0084 - accuracy: 0.9976 - val_loss: 0.0104 - val_accuracy: 0.9974\n",
            "Epoch 5/15\n",
            "157/157 [==============================] - 1s 6ms/step - loss: 0.0367 - accuracy: 0.9878 - val_loss: 0.0291 - val_accuracy: 0.9898\n",
            "Epoch 6/15\n",
            "157/157 [==============================] - 1s 6ms/step - loss: 0.0092 - accuracy: 0.9968 - val_loss: 0.0225 - val_accuracy: 0.9923\n",
            "Epoch 7/15\n",
            "157/157 [==============================] - 1s 6ms/step - loss: 0.0136 - accuracy: 0.9970 - val_loss: 0.0717 - val_accuracy: 0.9732\n",
            "Epoch 8/15\n",
            "157/157 [==============================] - 1s 6ms/step - loss: 0.0077 - accuracy: 0.9982 - val_loss: 0.0042 - val_accuracy: 0.9984\n",
            "Epoch 9/15\n",
            "157/157 [==============================] - 1s 7ms/step - loss: 7.1690e-04 - accuracy: 1.0000 - val_loss: 0.0060 - val_accuracy: 0.9990\n",
            "Epoch 10/15\n",
            "157/157 [==============================] - 1s 7ms/step - loss: 4.0275e-04 - accuracy: 1.0000 - val_loss: 0.0028 - val_accuracy: 0.9994\n",
            "Epoch 11/15\n",
            "157/157 [==============================] - 1s 8ms/step - loss: 1.1925e-04 - accuracy: 1.0000 - val_loss: 0.0021 - val_accuracy: 0.9994\n",
            "Epoch 12/15\n",
            "157/157 [==============================] - 2s 10ms/step - loss: 7.3796e-05 - accuracy: 1.0000 - val_loss: 0.0023 - val_accuracy: 0.9994\n",
            "Epoch 13/15\n",
            "157/157 [==============================] - 1s 7ms/step - loss: 5.5286e-05 - accuracy: 1.0000 - val_loss: 0.0022 - val_accuracy: 0.9994\n",
            "Epoch 14/15\n",
            "157/157 [==============================] - 1s 6ms/step - loss: 4.6690e-05 - accuracy: 1.0000 - val_loss: 0.0027 - val_accuracy: 0.9994\n",
            "Epoch 15/15\n",
            "157/157 [==============================] - 1s 6ms/step - loss: 3.9695e-05 - accuracy: 1.0000 - val_loss: 0.0025 - val_accuracy: 0.9994\n"
          ]
        }
      ]
    },
    {
      "cell_type": "markdown",
      "source": [
        "##Ocena wytrenowanego modelu"
      ],
      "metadata": {
        "id": "UEuGvL8mRcQT"
      }
    },
    {
      "cell_type": "code",
      "source": [
        "acc = history.history['accuracy']\n",
        "val_acc = history.history['val_accuracy']\n",
        "\n",
        "loss = history.history['loss']\n",
        "val_loss = history.history['val_loss']\n",
        "\n",
        "epochs_range = range(epochs)\n",
        "\n",
        "plt.figure(figsize=(8, 8))\n",
        "plt.subplot(1, 2, 1)\n",
        "plt.plot(epochs_range, acc, label='Training Accuracy')\n",
        "plt.plot(epochs_range, val_acc, label='Validation Accuracy')\n",
        "plt.legend(loc='lower right')\n",
        "plt.title('Training and Validation Accuracy')\n",
        "\n",
        "plt.subplot(1, 2, 2)\n",
        "plt.plot(epochs_range, loss, label='Training Loss')\n",
        "plt.plot(epochs_range, val_loss, label='Validation Loss')\n",
        "plt.legend(loc='upper right')\n",
        "plt.title('Training and Validation Loss')\n",
        "plt.show()"
      ],
      "metadata": {
        "colab": {
          "base_uri": "https://localhost:8080/",
          "height": 699
        },
        "id": "3vYv22XARf9S",
        "outputId": "71ef132f-adf1-4afb-e8a9-553a9ab62a14"
      },
      "execution_count": 8,
      "outputs": [
        {
          "output_type": "display_data",
          "data": {
            "text/plain": [
              "<Figure size 800x800 with 2 Axes>"
            ],
            "image/png": "[encoded data removed]"
          },
          "metadata": {}
        }
      ]
    },
    {
      "cell_type": "markdown",
      "source": [],
      "metadata": {
        "id": "UtSkAb6PXbV3"
      }
    },
    {
      "cell_type": "code",
      "source": [
        "from sklearn.metrics import classification_report\n",
        "\n",
        "def evaluate_model(val_ds,model):\n",
        "    y_pred = []\n",
        "    y_true = []\n",
        "\n",
        "    for batch_images, batch_labels in val_ds:\n",
        "        predictions = model.predict(batch_images,verbose = 0)\n",
        "        y_pred = y_pred + np.argmax(tf.nn.softmax(predictions), axis = 1).tolist()\n",
        "        y_true = y_true + batch_labels.numpy().tolist()\n",
        "    print(classification_report(y_true,y_pred))\n",
        "\n",
        "evaluate_model(val_ds,model)\n"
      ],
      "metadata": {
        "colab": {
          "base_uri": "https://localhost:8080/"
        },
        "id": "vu1ZRZ5fXan1",
        "outputId": "ebc19ffc-5240-4c35-b9a0-dafb445cbc01"
      },
      "execution_count": 9,
      "outputs": [
        {
          "output_type": "stream",
          "name": "stdout",
          "text": [
            "              precision    recall  f1-score   support\n",
            "\n",
            "           0       1.00      1.00      1.00       998\n",
            "           1       1.00      1.00      1.00       165\n",
            "           2       1.00      1.00      1.00       645\n",
            "           3       1.00      1.00      1.00        80\n",
            "           4       1.00      1.00      1.00        77\n",
            "           5       1.00      1.00      1.00        89\n",
            "           6       1.00      1.00      1.00       220\n",
            "           7       1.00      1.00      1.00       314\n",
            "           8       1.00      1.00      1.00       146\n",
            "           9       1.00      1.00      1.00       399\n",
            "\n",
            "    accuracy                           1.00      3133\n",
            "   macro avg       1.00      1.00      1.00      3133\n",
            "weighted avg       1.00      1.00      1.00      3133\n",
            "\n"
          ]
        }
      ]
    }
  ]
}