{
  "nbformat": 4,
  "nbformat_minor": 0,
  "metadata": {
    "colab": {
      "provenance": [],
      "authorship_tag": "ABX9TyOTuj8WvdGTWIEp738vUdDV",
      "include_colab_link": true
    },
    "kernelspec": {
      "name": "python3",
      "display_name": "Python 3"
    },
    "language_info": {
      "name": "python"
    }
  },
  "cells": [
    {
      "cell_type": "markdown",
      "metadata": {
        "id": "view-in-github",
        "colab_type": "text"
      },
      "source": [
        "<a href=\"https://colab.research.google.com/github/piotr-stefanski/fruit-and-vegetable-classification/blob/ayo/klasyfikacja_owocow_i_warzyw.ipynb\" target=\"_parent\"><img src=\"https://colab.research.google.com/assets/colab-badge.svg\" alt=\"Open In Colab\"/></a>"
      ]
    },
    {
      "cell_type": "markdown",
      "source": [
        "## **Importowanie danych z dysku**"
      ],
      "metadata": {
        "id": "_Snj1gw04Wke"
      }
    },
    {
      "cell_type": "code",
      "execution_count": null,
      "metadata": {
        "colab": {
          "base_uri": "https://localhost:8080/"
        },
        "id": "klbN3wimf7rk",
        "outputId": "fb369fd9-e576-44f0-e176-c9d673f6ec1b"
      },
      "outputs": [
        {
          "output_type": "stream",
          "name": "stdout",
          "text": [
            "Requirement already satisfied: gdown in /usr/local/lib/python3.10/dist-packages (4.7.3)\n",
            "Collecting gdown\n",
            "  Downloading gdown-5.0.0-py3-none-any.whl (16 kB)\n",
            "Requirement already satisfied: beautifulsoup4 in /usr/local/lib/python3.10/dist-packages (from gdown) (4.11.2)\n",
            "Requirement already satisfied: filelock in /usr/local/lib/python3.10/dist-packages (from gdown) (3.13.1)\n",
            "Requirement already satisfied: requests[socks] in /usr/local/lib/python3.10/dist-packages (from gdown) (2.31.0)\n",
            "Requirement already satisfied: tqdm in /usr/local/lib/python3.10/dist-packages (from gdown) (4.66.1)\n",
            "Requirement already satisfied: soupsieve>1.2 in /usr/local/lib/python3.10/dist-packages (from beautifulsoup4->gdown) (2.5)\n",
            "Requirement already satisfied: charset-normalizer<4,>=2 in /usr/local/lib/python3.10/dist-packages (from requests[socks]->gdown) (3.3.2)\n",
            "Requirement already satisfied: idna<4,>=2.5 in /usr/local/lib/python3.10/dist-packages (from requests[socks]->gdown) (3.6)\n",
            "Requirement already satisfied: urllib3<3,>=1.21.1 in /usr/local/lib/python3.10/dist-packages (from requests[socks]->gdown) (2.0.7)\n",
            "Requirement already satisfied: certifi>=2017.4.17 in /usr/local/lib/python3.10/dist-packages (from requests[socks]->gdown) (2023.11.17)\n",
            "Requirement already satisfied: PySocks!=1.5.7,>=1.5.6 in /usr/local/lib/python3.10/dist-packages (from requests[socks]->gdown) (1.7.1)\n",
            "Installing collected packages: gdown\n",
            "  Attempting uninstall: gdown\n",
            "    Found existing installation: gdown 4.7.3\n",
            "    Uninstalling gdown-4.7.3:\n",
            "      Successfully uninstalled gdown-4.7.3\n",
            "Successfully installed gdown-5.0.0\n",
            "Downloading...\n",
            "From (original): https://drive.google.com/uc?id=1uUITb6_VE_U4c2mx870GhNOfR9SJ4JMP\n",
            "From (redirected): https://drive.google.com/uc?id=1uUITb6_VE_U4c2mx870GhNOfR9SJ4JMP&confirm=t&uuid=b627c9f5-ca1a-4463-97b7-2b16fe2c811c\n",
            "To: /content/data.zip\n",
            "100% 59.7M/59.7M [00:01<00:00, 33.1MB/s]\n"
          ]
        }
      ],
      "source": [
        "!pip install -U --no-cache-dir gdown --pre\n",
        "\n",
        "!rm -rf data && mkdir data\n",
        "\n",
        "!gdown 1uUITb6_VE_U4c2mx870GhNOfR9SJ4JMP -O data.zip\n",
        "\n",
        "!unzip -q data.zip -d data"
      ]
    },
    {
      "cell_type": "markdown",
      "source": [
        "## **Importowanie bibliotek**"
      ],
      "metadata": {
        "id": "Nenefhp84jDX"
      }
    },
    {
      "cell_type": "code",
      "source": [
        "import matplotlib.pyplot as plt\n",
        "import numpy as np\n",
        "import PIL\n",
        "import tensorflow as tf\n",
        "import glob\n",
        "import os\n",
        "import xml.etree.ElementTree as ET\n",
        "\n",
        "from tensorflow import keras\n",
        "from tensorflow.keras import layers\n",
        "from tensorflow.keras.models import Sequential"
      ],
      "metadata": {
        "id": "V6YkQRxcgwLW"
      },
      "execution_count": null,
      "outputs": []
    },
    {
      "cell_type": "markdown",
      "source": [
        "## **Trenowanie**"
      ],
      "metadata": {
        "id": "3F8UPakI4tg-"
      }
    },
    {
      "cell_type": "code",
      "source": [
        "batch_size = 16\n",
        "class_count = 10\n",
        "\n",
        "img_height = 64\n",
        "img_width = 64\n",
        "\n",
        "print(os.getcwd())\n",
        "\n",
        "train_ds = tf.keras.utils.image_dataset_from_directory(\n",
        "  'data',\n",
        "  subset = \"training\",\n",
        "  validation_split = 0.7,  # 70% of the data for training\n",
        "  seed=123,\n",
        "  image_size=(img_height, img_width),\n",
        "  batch_size=batch_size)\n",
        "\n",
        "# Load the validation data\n",
        "val_ds = tf.keras.utils.image_dataset_from_directory(\n",
        "  'data',\n",
        "  subset = 'validation',\n",
        "  validation_split = 0.15,  # 15% of the data for validation\n",
        "  seed=123,\n",
        "  image_size=(img_height, img_width),\n",
        "  batch_size=batch_size)\n",
        "\n",
        "# Load the testing data\n",
        "test_ds = tf.keras.utils.image_dataset_from_directory(\n",
        "  'data',\n",
        "  subset = 'validation',\n",
        "  validation_split = 0.15,  # 15% of the data for testing\n",
        "  seed=124,  # Use a different seed to get a different subset of data\n",
        "  image_size=(img_height, img_width),\n",
        "  batch_size=batch_size)\n",
        "\n",
        "#Wyświetlenie klas\n",
        "class_names = train_ds.class_names\n",
        "print(f'class names: {class_names}')\n",
        "\n",
        "#Drobna optymalizacja\n",
        "train_ds = train_ds.cache().shuffle(1000).prefetch(buffer_size=tf.data.AUTOTUNE)\n",
        "val_ds = val_ds.cache().prefetch(buffer_size=tf.data.AUTOTUNE)\n",
        "\n",
        "data_augmentation = tf.keras.Sequential([\n",
        "  layers.experimental.preprocessing.RandomFlip(\"horizontal_and_vertical\"),\n",
        "  layers.experimental.preprocessing.RandomRotation(0.2),\n",
        "])\n",
        "\n",
        "from tensorflow.keras import regularizers\n",
        "\n",
        "model = Sequential([\n",
        "  data_augmentation,\n",
        "  layers.Rescaling(1./255, input_shape=(img_height, img_width, 3)),\n",
        "  layers.Conv2D(16, 3, padding='same', activation='relu', kernel_regularizer=regularizers.l2(0.01)),\n",
        "  layers.MaxPooling2D(),\n",
        "  layers.Conv2D(32, 3, padding='same', activation='relu', kernel_regularizer=regularizers.l2(0.01)),\n",
        "  layers.MaxPooling2D(),\n",
        "  layers.Conv2D(64, 3, padding='same', activation='relu', kernel_regularizer=regularizers.l2(0.01)),\n",
        "  layers.MaxPooling2D(),\n",
        "  layers.Conv2D(128, 3, padding='same', activation='relu', kernel_regularizer=regularizers.l2(0.01)),\n",
        "  layers.MaxPooling2D(),\n",
        "  layers.Dropout(0.5),\n",
        "  layers.Flatten(),\n",
        "  layers.Dense(128, activation='relu'),\n",
        "  layers.Dense(class_count)\n",
        "])\n",
        "\n",
        "model.compile(optimizer='adam',\n",
        "              loss=tf.keras.losses.SparseCategoricalCrossentropy(from_logits=True),\n",
        "              metrics=['accuracy'])"
      ],
      "metadata": {
        "id": "bz995cAqitcD",
        "colab": {
          "base_uri": "https://localhost:8080/"
        },
        "outputId": "537114cc-61bb-4e86-c76a-157e486be84e"
      },
      "execution_count": null,
      "outputs": [
        {
          "output_type": "stream",
          "name": "stdout",
          "text": [
            "/content\n",
            "Found 6267 files belonging to 10 classes.\n",
            "Using 1881 files for training.\n",
            "Found 6267 files belonging to 10 classes.\n",
            "Using 940 files for validation.\n",
            "Found 6267 files belonging to 10 classes.\n",
            "Using 940 files for validation.\n",
            "class names: ['apple', 'avocado', 'banana', 'kiwi', 'mandarin', 'orange', 'pear', 'pepper', 'potato', 'tomato']\n"
          ]
        }
      ]
    },
    {
      "cell_type": "code",
      "source": [
        "from tensorflow.keras.callbacks import ModelCheckpoint, EarlyStopping\n",
        "\n",
        "epochs = 30\n",
        "\n",
        "callbacks = [\n",
        "    ModelCheckpoint(filepath='model.h5', monitor='val_loss', save_best_only=True, verbose=1),\n",
        "    EarlyStopping(monitor='val_loss', patience=10, verbose=1)\n",
        "]\n",
        "\n",
        "history = model.fit(\n",
        "  train_ds,\n",
        "  validation_data=val_ds,\n",
        "  epochs=epochs,\n",
        "  callbacks=callbacks\n",
        ")\n"
      ],
      "metadata": {
        "colab": {
          "base_uri": "https://localhost:8080/"
        },
        "id": "K2u3iYQ4jWiG",
        "outputId": "9f60f1f9-8d68-47db-8cee-27c37903559b"
      },
      "execution_count": null,
      "outputs": [
        {
          "output_type": "stream",
          "name": "stdout",
          "text": [
            "Epoch 1/30\n",
            "118/118 [==============================] - ETA: 0s - loss: 2.1515 - accuracy: 0.4572\n",
            "Epoch 1: val_loss improved from inf to 1.45583, saving model to model.h5\n",
            "118/118 [==============================] - 15s 103ms/step - loss: 2.1515 - accuracy: 0.4572 - val_loss: 1.4558 - val_accuracy: 0.5968\n",
            "Epoch 2/30\n",
            "  2/118 [..............................] - ETA: 7s - loss: 1.3931 - accuracy: 0.5938"
          ]
        },
        {
          "output_type": "stream",
          "name": "stderr",
          "text": [
            "/usr/local/lib/python3.10/dist-packages/keras/src/engine/training.py:3103: UserWarning: You are saving your model as an HDF5 file via `model.save()`. This file format is considered legacy. We recommend using instead the native Keras format, e.g. `model.save('my_model.keras')`.\n",
            "  saving_api.save_model(\n"
          ]
        },
        {
          "output_type": "stream",
          "name": "stdout",
          "text": [
            "118/118 [==============================] - ETA: 0s - loss: 1.2582 - accuracy: 0.6305\n",
            "Epoch 2: val_loss improved from 1.45583 to 1.01972, saving model to model.h5\n",
            "118/118 [==============================] - 11s 90ms/step - loss: 1.2582 - accuracy: 0.6305 - val_loss: 1.0197 - val_accuracy: 0.7106\n",
            "Epoch 3/30\n",
            "118/118 [==============================] - ETA: 0s - loss: 1.0213 - accuracy: 0.7065\n",
            "Epoch 3: val_loss improved from 1.01972 to 0.75376, saving model to model.h5\n",
            "118/118 [==============================] - 10s 89ms/step - loss: 1.0213 - accuracy: 0.7065 - val_loss: 0.7538 - val_accuracy: 0.8128\n",
            "Epoch 4/30\n",
            "118/118 [==============================] - ETA: 0s - loss: 0.8700 - accuracy: 0.7581\n",
            "Epoch 4: val_loss did not improve from 0.75376\n",
            "118/118 [==============================] - 10s 85ms/step - loss: 0.8700 - accuracy: 0.7581 - val_loss: 0.9383 - val_accuracy: 0.7149\n",
            "Epoch 5/30\n",
            "118/118 [==============================] - ETA: 0s - loss: 0.7310 - accuracy: 0.8171\n",
            "Epoch 5: val_loss improved from 0.75376 to 0.64209, saving model to model.h5\n",
            "118/118 [==============================] - 11s 89ms/step - loss: 0.7310 - accuracy: 0.8171 - val_loss: 0.6421 - val_accuracy: 0.8436\n",
            "Epoch 6/30\n",
            "118/118 [==============================] - ETA: 0s - loss: 0.6223 - accuracy: 0.8506\n",
            "Epoch 6: val_loss improved from 0.64209 to 0.56835, saving model to model.h5\n",
            "118/118 [==============================] - 11s 96ms/step - loss: 0.6223 - accuracy: 0.8506 - val_loss: 0.5684 - val_accuracy: 0.8585\n",
            "Epoch 7/30\n",
            "118/118 [==============================] - ETA: 0s - loss: 0.6144 - accuracy: 0.8596\n",
            "Epoch 7: val_loss improved from 0.56835 to 0.49475, saving model to model.h5\n",
            "118/118 [==============================] - 10s 82ms/step - loss: 0.6144 - accuracy: 0.8596 - val_loss: 0.4948 - val_accuracy: 0.9170\n",
            "Epoch 8/30\n",
            "118/118 [==============================] - ETA: 0s - loss: 0.5155 - accuracy: 0.8926\n",
            "Epoch 8: val_loss improved from 0.49475 to 0.43577, saving model to model.h5\n",
            "118/118 [==============================] - 11s 91ms/step - loss: 0.5155 - accuracy: 0.8926 - val_loss: 0.4358 - val_accuracy: 0.9160\n",
            "Epoch 9/30\n",
            "117/118 [============================>.] - ETA: 0s - loss: 0.4942 - accuracy: 0.9017\n",
            "Epoch 9: val_loss did not improve from 0.43577\n",
            "118/118 [==============================] - 10s 87ms/step - loss: 0.4932 - accuracy: 0.9022 - val_loss: 0.4782 - val_accuracy: 0.9096\n",
            "Epoch 10/30\n",
            "118/118 [==============================] - ETA: 0s - loss: 0.4552 - accuracy: 0.9064\n",
            "Epoch 10: val_loss improved from 0.43577 to 0.40033, saving model to model.h5\n",
            "118/118 [==============================] - 11s 89ms/step - loss: 0.4552 - accuracy: 0.9064 - val_loss: 0.4003 - val_accuracy: 0.9170\n",
            "Epoch 11/30\n",
            "118/118 [==============================] - ETA: 0s - loss: 0.4247 - accuracy: 0.9176\n",
            "Epoch 11: val_loss did not improve from 0.40033\n",
            "118/118 [==============================] - 9s 80ms/step - loss: 0.4247 - accuracy: 0.9176 - val_loss: 0.4100 - val_accuracy: 0.9234\n",
            "Epoch 12/30\n",
            "118/118 [==============================] - ETA: 0s - loss: 0.4435 - accuracy: 0.9160\n",
            "Epoch 12: val_loss did not improve from 0.40033\n",
            "118/118 [==============================] - 9s 80ms/step - loss: 0.4435 - accuracy: 0.9160 - val_loss: 0.4107 - val_accuracy: 0.9160\n",
            "Epoch 13/30\n",
            "118/118 [==============================] - ETA: 0s - loss: 0.3696 - accuracy: 0.9399\n",
            "Epoch 13: val_loss improved from 0.40033 to 0.29835, saving model to model.h5\n",
            "118/118 [==============================] - 10s 88ms/step - loss: 0.3696 - accuracy: 0.9399 - val_loss: 0.2983 - val_accuracy: 0.9585\n",
            "Epoch 14/30\n",
            "118/118 [==============================] - ETA: 0s - loss: 0.3535 - accuracy: 0.9452\n",
            "Epoch 14: val_loss did not improve from 0.29835\n",
            "118/118 [==============================] - 10s 88ms/step - loss: 0.3535 - accuracy: 0.9452 - val_loss: 0.5179 - val_accuracy: 0.8840\n",
            "Epoch 15/30\n",
            "118/118 [==============================] - ETA: 0s - loss: 0.3794 - accuracy: 0.9383\n",
            "Epoch 15: val_loss did not improve from 0.29835\n",
            "118/118 [==============================] - 10s 86ms/step - loss: 0.3794 - accuracy: 0.9383 - val_loss: 0.3199 - val_accuracy: 0.9532\n",
            "Epoch 16/30\n",
            "118/118 [==============================] - ETA: 0s - loss: 0.3211 - accuracy: 0.9575\n",
            "Epoch 16: val_loss did not improve from 0.29835\n",
            "118/118 [==============================] - 11s 95ms/step - loss: 0.3211 - accuracy: 0.9575 - val_loss: 0.3164 - val_accuracy: 0.9489\n",
            "Epoch 17/30\n",
            "118/118 [==============================] - ETA: 0s - loss: 0.3524 - accuracy: 0.9474\n",
            "Epoch 17: val_loss improved from 0.29835 to 0.26375, saving model to model.h5\n",
            "118/118 [==============================] - 11s 90ms/step - loss: 0.3524 - accuracy: 0.9474 - val_loss: 0.2638 - val_accuracy: 0.9755\n",
            "Epoch 18/30\n",
            "118/118 [==============================] - ETA: 0s - loss: 0.3335 - accuracy: 0.9463\n",
            "Epoch 18: val_loss did not improve from 0.26375\n",
            "118/118 [==============================] - 10s 87ms/step - loss: 0.3335 - accuracy: 0.9463 - val_loss: 0.3863 - val_accuracy: 0.9234\n",
            "Epoch 19/30\n",
            "118/118 [==============================] - ETA: 0s - loss: 0.3154 - accuracy: 0.9468\n",
            "Epoch 19: val_loss did not improve from 0.26375\n",
            "118/118 [==============================] - 10s 88ms/step - loss: 0.3154 - accuracy: 0.9468 - val_loss: 0.3170 - val_accuracy: 0.9553\n",
            "Epoch 20/30\n",
            "118/118 [==============================] - ETA: 0s - loss: 0.3077 - accuracy: 0.9585\n",
            "Epoch 20: val_loss did not improve from 0.26375\n",
            "118/118 [==============================] - 10s 88ms/step - loss: 0.3077 - accuracy: 0.9585 - val_loss: 0.3433 - val_accuracy: 0.9383\n",
            "Epoch 21/30\n",
            "118/118 [==============================] - ETA: 0s - loss: 0.3155 - accuracy: 0.9553\n",
            "Epoch 21: val_loss improved from 0.26375 to 0.24922, saving model to model.h5\n",
            "118/118 [==============================] - 10s 86ms/step - loss: 0.3155 - accuracy: 0.9553 - val_loss: 0.2492 - val_accuracy: 0.9745\n",
            "Epoch 22/30\n",
            "118/118 [==============================] - ETA: 0s - loss: 0.3589 - accuracy: 0.9373\n",
            "Epoch 22: val_loss did not improve from 0.24922\n",
            "118/118 [==============================] - 9s 80ms/step - loss: 0.3589 - accuracy: 0.9373 - val_loss: 0.2934 - val_accuracy: 0.9649\n",
            "Epoch 23/30\n",
            "118/118 [==============================] - ETA: 0s - loss: 0.3228 - accuracy: 0.9548\n",
            "Epoch 23: val_loss did not improve from 0.24922\n",
            "118/118 [==============================] - 10s 86ms/step - loss: 0.3228 - accuracy: 0.9548 - val_loss: 0.2562 - val_accuracy: 0.9734\n",
            "Epoch 24/30\n",
            "118/118 [==============================] - ETA: 0s - loss: 0.2892 - accuracy: 0.9591\n",
            "Epoch 24: val_loss improved from 0.24922 to 0.24885, saving model to model.h5\n",
            "118/118 [==============================] - 10s 88ms/step - loss: 0.2892 - accuracy: 0.9591 - val_loss: 0.2489 - val_accuracy: 0.9734\n",
            "Epoch 25/30\n",
            "118/118 [==============================] - ETA: 0s - loss: 0.3245 - accuracy: 0.9484\n",
            "Epoch 25: val_loss did not improve from 0.24885\n",
            "118/118 [==============================] - 10s 87ms/step - loss: 0.3245 - accuracy: 0.9484 - val_loss: 0.2500 - val_accuracy: 0.9766\n",
            "Epoch 26/30\n",
            "118/118 [==============================] - ETA: 0s - loss: 0.2626 - accuracy: 0.9713\n",
            "Epoch 26: val_loss improved from 0.24885 to 0.23228, saving model to model.h5\n",
            "118/118 [==============================] - 10s 86ms/step - loss: 0.2626 - accuracy: 0.9713 - val_loss: 0.2323 - val_accuracy: 0.9787\n",
            "Epoch 27/30\n",
            "118/118 [==============================] - ETA: 0s - loss: 0.2496 - accuracy: 0.9724\n",
            "Epoch 27: val_loss improved from 0.23228 to 0.20331, saving model to model.h5\n",
            "118/118 [==============================] - 9s 80ms/step - loss: 0.2496 - accuracy: 0.9724 - val_loss: 0.2033 - val_accuracy: 0.9883\n",
            "Epoch 28/30\n",
            "118/118 [==============================] - ETA: 0s - loss: 0.2586 - accuracy: 0.9670\n",
            "Epoch 28: val_loss did not improve from 0.20331\n",
            "118/118 [==============================] - 10s 84ms/step - loss: 0.2586 - accuracy: 0.9670 - val_loss: 0.2293 - val_accuracy: 0.9819\n",
            "Epoch 29/30\n",
            "118/118 [==============================] - ETA: 0s - loss: 0.2824 - accuracy: 0.9575\n",
            "Epoch 29: val_loss did not improve from 0.20331\n",
            "118/118 [==============================] - 11s 96ms/step - loss: 0.2824 - accuracy: 0.9575 - val_loss: 0.2587 - val_accuracy: 0.9670\n",
            "Epoch 30/30\n",
            "118/118 [==============================] - ETA: 0s - loss: 0.2879 - accuracy: 0.9569\n",
            "Epoch 30: val_loss did not improve from 0.20331\n",
            "118/118 [==============================] - 10s 87ms/step - loss: 0.2879 - accuracy: 0.9569 - val_loss: 0.2321 - val_accuracy: 0.9809\n"
          ]
        }
      ]
    },
    {
      "cell_type": "markdown",
      "source": [
        "## **Wyświetlanie danych**"
      ],
      "metadata": {
        "id": "Pbgf37uK7qxj"
      }
    },
    {
      "cell_type": "code",
      "source": [
        "acc = history.history['accuracy']\n",
        "val_acc = history.history['val_accuracy']\n",
        "\n",
        "loss = history.history['loss']\n",
        "val_loss = history.history['val_loss']\n",
        "\n",
        "epochs_range = range(epochs)\n",
        "\n",
        "plt.figure(figsize=(8, 8))\n",
        "plt.subplot(1, 2, 1)\n",
        "plt.plot(epochs_range, acc, label='Training Accuracy')\n",
        "plt.plot(epochs_range, val_acc, label='Validation Accuracy')\n",
        "plt.legend(loc='lower right')\n",
        "plt.title('Training and Validation Accuracy')\n",
        "\n",
        "plt.subplot(1, 2, 2)\n",
        "plt.plot(epochs_range, loss, label='Training Loss')\n",
        "plt.plot(epochs_range, val_loss, label='Validation Loss')\n",
        "plt.legend(loc='upper right')\n",
        "plt.title('Training and Validation Loss')\n",
        "plt.show()"
      ],
      "metadata": {
        "colab": {
          "base_uri": "https://localhost:8080/",
          "height": 699
        },
        "id": "AuhVlUJwkh97",
        "outputId": "18d5a35c-445e-4db8-b280-ceaa43154b8a"
      },
      "execution_count": null,
      "outputs": [
        {
          "output_type": "display_data",
          "data": {
            "text/plain": [
              "<Figure size 800x800 with 2 Axes>"
            ],
            "image/png": "[encoded data removed]"
          },
          "metadata": {}
        }
      ]
    },
    {
      "cell_type": "code",
      "source": [
        "from sklearn.metrics import classification_report\n",
        "def evaluate_model(val_ds, model):\n",
        "    y_pred = []\n",
        "    y_true = []\n",
        "\n",
        "    for batch_images, batch_labels in val_ds:\n",
        "        predictions = model.predict(batch_images, verbose=0)\n",
        "        y_pred = y_pred + np.argmax(tf.nn.softmax(predictions), axis=1).tolist()\n",
        "        y_true = y_true + batch_labels.numpy().tolist()\n",
        "    print(classification_report(y_true, y_pred))\n",
        "\n",
        "evaluate_model(val_ds, model)"
      ],
      "metadata": {
        "colab": {
          "base_uri": "https://localhost:8080/"
        },
        "id": "MohqSrHbknFx",
        "outputId": "9dc12c53-7425-4c5d-c95e-1dfb6badae50"
      },
      "execution_count": null,
      "outputs": [
        {
          "output_type": "stream",
          "name": "stdout",
          "text": [
            "              precision    recall  f1-score   support\n",
            "\n",
            "           0       0.99      0.98      0.98       293\n",
            "           1       0.98      0.93      0.96        46\n",
            "           2       0.99      0.98      0.99       209\n",
            "           3       0.88      1.00      0.94        22\n",
            "           4       1.00      1.00      1.00        28\n",
            "           5       1.00      1.00      1.00        27\n",
            "           6       0.93      0.99      0.96        68\n",
            "           7       0.94      1.00      0.97        82\n",
            "           8       1.00      0.94      0.97        48\n",
            "           9       1.00      1.00      1.00       117\n",
            "\n",
            "    accuracy                           0.98       940\n",
            "   macro avg       0.97      0.98      0.98       940\n",
            "weighted avg       0.98      0.98      0.98       940\n",
            "\n"
          ]
        }
      ]
    },
    {
      "cell_type": "markdown",
      "source": [
        "## **Testowanie modelu**"
      ],
      "metadata": {
        "id": "cCOsMx2s_t6h"
      }
    },
    {
      "cell_type": "code",
      "source": [
        "# Evaluate the model on the test set\n",
        "test_loss, test_acc = model.evaluate(test_ds, verbose=2)\n",
        "print('\\nTest accuracy:', test_acc)\n",
        "print()\n",
        "from tensorflow.keras.preprocessing import image\n",
        "\n",
        "img = image.load_img('/content/kiwi.jpg', target_size=(img_height, img_width))\n",
        "\n",
        "img_array = image.img_to_array(img)\n",
        "img_array = tf.expand_dims(img_array, 0)\n",
        "\n",
        "predictions = model.predict(img_array)\n",
        "score = tf.nn.softmax(predictions[0])\n",
        "\n",
        "print(\n",
        "    \"This ia probably a/an {} with {:.2f}% prediction.\"\n",
        "    .format(class_names[np.argmax(score)], 100 * np.max(score))\n",
        ")"
      ],
      "metadata": {
        "colab": {
          "base_uri": "https://localhost:8080/"
        },
        "id": "Gmd6mmzh_yi2",
        "outputId": "efb7dd19-619c-4482-affd-3e0321f5c409"
      },
      "execution_count": null,
      "outputs": [
        {
          "output_type": "stream",
          "name": "stdout",
          "text": [
            "59/59 - 3s - loss: 0.2498 - accuracy: 0.9787 - 3s/epoch - 45ms/step\n",
            "\n",
            "Test accuracy: 0.978723406791687\n",
            "\n",
            "1/1 [==============================] - 0s 31ms/step\n",
            "This ia probably a/an kiwi with 98.55% prediction.\n"
          ]
        }
      ]
    }
  ]
}